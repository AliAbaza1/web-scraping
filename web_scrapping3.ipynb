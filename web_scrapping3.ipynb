{
  "nbformat": 4,
  "nbformat_minor": 0,
  "metadata": {
    "colab": {
      "name": "web-scrapping3.ipynb",
      "provenance": []
    },
    "kernelspec": {
      "name": "python3",
      "display_name": "Python 3"
    },
    "language_info": {
      "name": "python"
    }
  },
  "cells": [
    {
      "cell_type": "code",
      "metadata": {
        "id": "cT1fHJ6IbpLR"
      },
      "source": [
        "import requests, json , csv , time , pandas\n"
      ],
      "execution_count": 4,
      "outputs": []
    },
    {
      "cell_type": "code",
      "metadata": {
        "colab": {
          "base_uri": "https://localhost:8080/"
        },
        "id": "4aXPfZChbuYm",
        "outputId": "f7d82f6c-eec7-470d-e560-e87cad454144"
      },
      "source": [
        "with open('weather.csv', 'w') as f:\n",
        "    writer = csv.DictWriter(f, fieldnames=['weather', 'humidity', 'visibility' , 'pressure' , 'wind_speed'])\n",
        "    writer.writeheader()\n",
        "    for i in range(10):\n",
        "        url = \"http://api.weatherstack.com/current?access_key=cce43aa3a3de500cc32c5df0e67c9408&query=Cairo\"\n",
        "        response = requests.request(\"GET\", url)\n",
        "        json_response = json.loads(response.text)\n",
        "        weather = json_response['current']['weather_descriptions'][0]\n",
        "        humidity= json_response['current']['humidity']\n",
        "        visibility= json_response['current']['visibility']\n",
        "        pressure= json_response['current']['pressure']\n",
        "        wind_speed= json_response['current']['wind_speed']\n",
        "        writer.writerow({'weather': weather, 'humidity': humidity, 'visibility': visibility , 'pressure' : pressure , 'wind_speed' : wind_speed})\n",
        "        print(f'scrapping done for {i+1}')\n",
        "        time.sleep(1)"
      ],
      "execution_count": 5,
      "outputs": [
        {
          "output_type": "stream",
          "name": "stdout",
          "text": [
            "scrapping done for 1\n",
            "scrapping done for 2\n",
            "scrapping done for 3\n",
            "scrapping done for 4\n",
            "scrapping done for 5\n",
            "scrapping done for 6\n",
            "scrapping done for 7\n",
            "scrapping done for 8\n",
            "scrapping done for 9\n",
            "scrapping done for 10\n"
          ]
        }
      ]
    },
    {
      "cell_type": "code",
      "metadata": {
        "colab": {
          "base_uri": "https://localhost:8080/",
          "height": 357
        },
        "id": "THSoA6Dbb0Ee",
        "outputId": "52e19c5d-cc96-4115-b70a-17d6671386e2"
      },
      "source": [
        "pandas.read_csv('weather.csv')"
      ],
      "execution_count": 6,
      "outputs": [
        {
          "output_type": "execute_result",
          "data": {
            "text/html": [
              "<div>\n",
              "<style scoped>\n",
              "    .dataframe tbody tr th:only-of-type {\n",
              "        vertical-align: middle;\n",
              "    }\n",
              "\n",
              "    .dataframe tbody tr th {\n",
              "        vertical-align: top;\n",
              "    }\n",
              "\n",
              "    .dataframe thead th {\n",
              "        text-align: right;\n",
              "    }\n",
              "</style>\n",
              "<table border=\"1\" class=\"dataframe\">\n",
              "  <thead>\n",
              "    <tr style=\"text-align: right;\">\n",
              "      <th></th>\n",
              "      <th>weather</th>\n",
              "      <th>humidity</th>\n",
              "      <th>visibility</th>\n",
              "      <th>pressure</th>\n",
              "      <th>wind_speed</th>\n",
              "    </tr>\n",
              "  </thead>\n",
              "  <tbody>\n",
              "    <tr>\n",
              "      <th>0</th>\n",
              "      <td>Clear</td>\n",
              "      <td>69</td>\n",
              "      <td>10</td>\n",
              "      <td>1017</td>\n",
              "      <td>19</td>\n",
              "    </tr>\n",
              "    <tr>\n",
              "      <th>1</th>\n",
              "      <td>Clear</td>\n",
              "      <td>69</td>\n",
              "      <td>10</td>\n",
              "      <td>1017</td>\n",
              "      <td>19</td>\n",
              "    </tr>\n",
              "    <tr>\n",
              "      <th>2</th>\n",
              "      <td>Clear</td>\n",
              "      <td>69</td>\n",
              "      <td>10</td>\n",
              "      <td>1017</td>\n",
              "      <td>19</td>\n",
              "    </tr>\n",
              "    <tr>\n",
              "      <th>3</th>\n",
              "      <td>Clear</td>\n",
              "      <td>69</td>\n",
              "      <td>10</td>\n",
              "      <td>1017</td>\n",
              "      <td>19</td>\n",
              "    </tr>\n",
              "    <tr>\n",
              "      <th>4</th>\n",
              "      <td>Clear</td>\n",
              "      <td>69</td>\n",
              "      <td>10</td>\n",
              "      <td>1017</td>\n",
              "      <td>19</td>\n",
              "    </tr>\n",
              "    <tr>\n",
              "      <th>5</th>\n",
              "      <td>Clear</td>\n",
              "      <td>69</td>\n",
              "      <td>10</td>\n",
              "      <td>1017</td>\n",
              "      <td>19</td>\n",
              "    </tr>\n",
              "    <tr>\n",
              "      <th>6</th>\n",
              "      <td>Clear</td>\n",
              "      <td>69</td>\n",
              "      <td>10</td>\n",
              "      <td>1017</td>\n",
              "      <td>19</td>\n",
              "    </tr>\n",
              "    <tr>\n",
              "      <th>7</th>\n",
              "      <td>Clear</td>\n",
              "      <td>69</td>\n",
              "      <td>10</td>\n",
              "      <td>1017</td>\n",
              "      <td>19</td>\n",
              "    </tr>\n",
              "    <tr>\n",
              "      <th>8</th>\n",
              "      <td>Clear</td>\n",
              "      <td>69</td>\n",
              "      <td>10</td>\n",
              "      <td>1017</td>\n",
              "      <td>19</td>\n",
              "    </tr>\n",
              "    <tr>\n",
              "      <th>9</th>\n",
              "      <td>Clear</td>\n",
              "      <td>69</td>\n",
              "      <td>10</td>\n",
              "      <td>1017</td>\n",
              "      <td>19</td>\n",
              "    </tr>\n",
              "  </tbody>\n",
              "</table>\n",
              "</div>"
            ],
            "text/plain": [
              "  weather  humidity  visibility  pressure  wind_speed\n",
              "0   Clear        69          10      1017          19\n",
              "1   Clear        69          10      1017          19\n",
              "2   Clear        69          10      1017          19\n",
              "3   Clear        69          10      1017          19\n",
              "4   Clear        69          10      1017          19\n",
              "5   Clear        69          10      1017          19\n",
              "6   Clear        69          10      1017          19\n",
              "7   Clear        69          10      1017          19\n",
              "8   Clear        69          10      1017          19\n",
              "9   Clear        69          10      1017          19"
            ]
          },
          "metadata": {},
          "execution_count": 6
        }
      ]
    },
    {
      "cell_type": "code",
      "metadata": {
        "id": "GPNiVO2DcEDA"
      },
      "source": [
        ""
      ],
      "execution_count": null,
      "outputs": []
    }
  ]
}